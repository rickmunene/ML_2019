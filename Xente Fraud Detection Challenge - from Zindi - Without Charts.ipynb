{
 "cells": [
  {
   "cell_type": "markdown",
   "metadata": {
    "_uuid": "e94b258fe0c91fd5bb76107c509fc896db021f2b"
   },
   "source": [
    "# <a id=\"2\">Load packages</a>"
   ]
  },
  {
   "cell_type": "code",
   "execution_count": null,
   "metadata": {
    "_uuid": "0f34e1e378b762166698b0136c57048a45e7858c"
   },
   "outputs": [],
   "source": [
    "import pandas as pd \n",
    "import pandas_profiling\n",
    "import numpy as np\n",
    "import matplotlib\n",
    "import matplotlib.pyplot as plt\n",
    "import seaborn as sns\n",
    "%matplotlib inline \n",
    "import plotly.graph_objs as go\n",
    "import plotly.figure_factory as ff\n",
    "from plotly import tools\n",
    "from plotly.offline import download_plotlyjs, init_notebook_mode, plot, iplot\n",
    "init_notebook_mode(connected=True)\n",
    "\n",
    "\n",
    "import pandas as pd\n",
    "import numpy as np\n",
    "import matplotlib.pyplot as plt\n",
    "import seaborn as sns\n",
    "%matplotlib inline\n",
    "\n",
    "from collections import Counter\n",
    "import xgboost as xgb\n",
    "from sklearn.metrics import accuracy_score, f1_score, confusion_matrix, make_scorer\n",
    "from sklearn.ensemble import RandomForestClassifier, GradientBoostingClassifier, ExtraTreesClassifier\n",
    "\n",
    "from sklearn.neighbors import KNeighborsClassifier\n",
    "\n",
    "from sklearn.svm import SVC\n",
    "from sklearn.preprocessing import LabelEncoder, StandardScaler\n",
    "from sklearn.model_selection import GridSearchCV, cross_val_score, StratifiedKFold, learning_curve\n",
    "\n",
    "sns.set(style='white', context='notebook', palette='deep')\n",
    "\n",
    "\n",
    "import gc\n",
    "from datetime import datetime \n",
    "from sklearn.model_selection import train_test_split\n",
    "from sklearn.model_selection import KFold\n",
    "from sklearn.metrics import roc_auc_score\n",
    "from sklearn.ensemble import RandomForestClassifier\n",
    "from sklearn.ensemble import AdaBoostClassifier\n",
    "from catboost import CatBoostClassifier\n",
    "from sklearn import svm\n",
    "import lightgbm as lgb\n",
    "from lightgbm import LGBMClassifier\n",
    "import xgboost as xgb\n",
    "\n",
    "from sklearn.metrics import classification_report\n",
    "\n",
    "\n",
    "pd.set_option('display.max_columns', 100)\n",
    "\n",
    "\n",
    "RFC_METRIC = 'gini'  #metric used for RandomForrestClassifier\n",
    "NUM_ESTIMATORS = 100 #number of estimators used for RandomForrestClassifier\n",
    "NO_JOBS = 4 #number of parallel jobs used for RandomForrestClassifier\n",
    "\n",
    "\n",
    "#TRAIN/VALIDATION/TEST SPLIT\n",
    "#VALIDATION\n",
    "VALID_SIZE = 0.20 # simple validation using train_test_split\n",
    "TEST_SIZE = 0.20 # test size using_train_test_split\n",
    "\n",
    "#CROSS-VALIDATION\n",
    "NUMBER_KFOLDS = 5 #number of KFolds for cross-validation\n",
    "\n",
    "\n",
    "\n",
    "RANDOM_STATE = 2018\n",
    "\n",
    "MAX_ROUNDS = 1000 #lgb iterations\n",
    "EARLY_STOP = 50 #lgb early stop \n",
    "OPT_ROUNDS = 1000  #To be adjusted based on best validation rounds\n",
    "VERBOSE_EVAL = 50 #Print out metric result\n",
    "\n",
    "IS_LOCAL = False\n",
    "\n",
    "import os\n",
    "\n",
    "PATH=\"data\"\n",
    "    \n",
    "print(os.listdir(PATH))"
   ]
  },
  {
   "cell_type": "markdown",
   "metadata": {
    "_uuid": "9eb142be459775c38046265e3b27ccbfd63ed0f6"
   },
   "source": [
    "# <a id=\"3\">Read the data</a>"
   ]
  },
  {
   "cell_type": "code",
   "execution_count": null,
   "metadata": {
    "_uuid": "42e4a9f9b53f6d46cabd00b64a0e9f52b7abcd82"
   },
   "outputs": [],
   "source": [
    "data_df = pd.read_csv(PATH+\"/training.csv\")"
   ]
  },
  {
   "cell_type": "code",
   "execution_count": null,
   "metadata": {},
   "outputs": [],
   "source": [
    "test_df = pd.read_csv(PATH+\"/test.csv\")"
   ]
  },
  {
   "cell_type": "markdown",
   "metadata": {
    "_uuid": "0148d5c242773fbe8a10ae54873b6e59b083398e"
   },
   "source": [
    "# <a id=\"4\">Check the data</a>"
   ]
  },
  {
   "cell_type": "code",
   "execution_count": null,
   "metadata": {
    "_uuid": "ed93a290bcf10bcf817dc9489a308d489c0cfd40"
   },
   "outputs": [],
   "source": [
    "print(\"Training data -  rows:\",data_df.shape[0],\" columns:\", data_df.shape[1])\n",
    "print(\"Test data -  rows:\",data_df.shape[0],\" columns:\", test_df.shape[1])"
   ]
  },
  {
   "cell_type": "markdown",
   "metadata": {
    "_uuid": "91c1d7ca1b2e1a15d2dd83c3478df667d6ba6ace"
   },
   "source": [
    "## <a id=\"41\">Glimpse the data</a>\n",
    "\n",
    "We start by looking to the data features (first 5 rows)."
   ]
  },
  {
   "cell_type": "code",
   "execution_count": null,
   "metadata": {
    "_uuid": "c426639fdeb77bea60513724c6c438a5e8a02f8a"
   },
   "outputs": [],
   "source": [
    "data_df.head()"
   ]
  },
  {
   "cell_type": "markdown",
   "metadata": {
    "_uuid": "df10bc43389fb9e8159150a566bd52abd0dd2839"
   },
   "source": [
    "Let's look into more details to the data."
   ]
  },
  {
   "cell_type": "code",
   "execution_count": null,
   "metadata": {
    "_uuid": "8705f721907820bfc8c720f2f5ac5e0f9f28fa42"
   },
   "outputs": [],
   "source": [
    "#data_df.describe()"
   ]
  },
  {
   "cell_type": "code",
   "execution_count": null,
   "metadata": {},
   "outputs": [],
   "source": [
    "#pandas_profiling.ProfileReport(data_df)"
   ]
  },
  {
   "cell_type": "code",
   "execution_count": null,
   "metadata": {},
   "outputs": [],
   "source": [
    "#info\n",
    "data_df.info()"
   ]
  },
  {
   "cell_type": "code",
   "execution_count": null,
   "metadata": {},
   "outputs": [],
   "source": [
    "data_df[\"TransactionStartTime\"] = pd.to_datetime(data_df[\"TransactionStartTime\"],infer_datetime_format=True)"
   ]
  },
  {
   "cell_type": "code",
   "execution_count": null,
   "metadata": {},
   "outputs": [],
   "source": [
    "data_df['TransactionStartTime'].iloc[0]"
   ]
  },
  {
   "cell_type": "code",
   "execution_count": null,
   "metadata": {},
   "outputs": [],
   "source": [
    "data_df_Timedelta = data_df['TransactionStartTime'].iloc[95661] - data_df['TransactionStartTime'].iloc[0]\n",
    "data_df_Timedelta"
   ]
  },
  {
   "cell_type": "markdown",
   "metadata": {
    "_uuid": "bf88e4180834a1bf7e76a583328094926fade824"
   },
   "source": [
    "Looking to the **Time** feature, we can confirm that the data contains **95,662** transactions, during 90 consecutive days."
   ]
  },
  {
   "cell_type": "code",
   "execution_count": null,
   "metadata": {},
   "outputs": [],
   "source": [
    "data_df.head()"
   ]
  },
  {
   "cell_type": "markdown",
   "metadata": {
    "_uuid": "39299ca7dc0324113fcd854530cbe7a945cc94bb"
   },
   "source": [
    "## <a id=\"42\">Check missing data</a>  \n",
    "\n",
    "Let's check if there is any missing data."
   ]
  },
  {
   "cell_type": "code",
   "execution_count": null,
   "metadata": {
    "_uuid": "51940c5cfb59bb4720d70157c310a339ce483eb6"
   },
   "outputs": [],
   "source": [
    "total = data_df.isnull().sum().sort_values(ascending = False)\n",
    "percent = (data_df.isnull().sum()/data_df.isnull().count()*100).sort_values(ascending = False)\n",
    "pd.concat([total, percent], axis=1, keys=['Total', 'Percent']).transpose()"
   ]
  },
  {
   "cell_type": "markdown",
   "metadata": {
    "_uuid": "aa67814319f2b87367a7a675d956f1aa8f806363"
   },
   "source": [
    "There is no missing data in the entire dataset."
   ]
  },
  {
   "cell_type": "markdown",
   "metadata": {
    "_uuid": "77eddeb05f44c47ee4a1be98bb22bb3cb0345030"
   },
   "source": [
    "Only **193** (or **0.02%**) of transaction are fraudulent. That means the data is highly unbalanced with respect with target variable **Class**."
   ]
  },
  {
   "cell_type": "markdown",
   "metadata": {},
   "source": [
    "# Preprocess Training Data"
   ]
  },
  {
   "cell_type": "markdown",
   "metadata": {},
   "source": [
    "### Extracting just Date, Month and Year from TransactionStartTime column"
   ]
  },
  {
   "cell_type": "code",
   "execution_count": null,
   "metadata": {},
   "outputs": [],
   "source": [
    "data_df.head()"
   ]
  },
  {
   "cell_type": "code",
   "execution_count": null,
   "metadata": {},
   "outputs": [],
   "source": [
    "data_df['year'] = pd.DatetimeIndex(data_df['TransactionStartTime']).year\n",
    "data_df['month'] = pd.DatetimeIndex(data_df['TransactionStartTime']).month\n",
    "data_df['day'] = pd.DatetimeIndex(data_df['TransactionStartTime']).day\n",
    "data_df['hour'] = pd.DatetimeIndex(data_df['TransactionStartTime']).hour\n",
    "data_df['minute'] = pd.DatetimeIndex(data_df['TransactionStartTime']).minute\n",
    "data_df['second'] = pd.DatetimeIndex(data_df['TransactionStartTime']).second"
   ]
  },
  {
   "cell_type": "code",
   "execution_count": null,
   "metadata": {},
   "outputs": [],
   "source": [
    "#data_df[\"TransactionStartTime\"] = pd.to_datetime(data_df[\"TransactionStartTime\"],infer_datetime_format=True)\n",
    "\n",
    "#change the full date to day of week\n",
    "data_df[\"day_of_week\"] = data_df[\"TransactionStartTime\"].dt.dayofweek "
   ]
  },
  {
   "cell_type": "code",
   "execution_count": null,
   "metadata": {},
   "outputs": [],
   "source": [
    "data_df.head()"
   ]
  },
  {
   "cell_type": "markdown",
   "metadata": {},
   "source": [
    "### Split columns using delimiter"
   ]
  },
  {
   "cell_type": "code",
   "execution_count": null,
   "metadata": {},
   "outputs": [],
   "source": [
    "data_df[['TransactionId_split','TransactionId']] = data_df.TransactionId.str.split(\"_\",expand=True,)\n",
    "data_df[['BatchId_split','BatchId']] = data_df.BatchId.str.split(\"_\",expand=True,)\n",
    "data_df[['AccountId_split','AccountId']] = data_df.AccountId.str.split(\"_\",expand=True,)\n",
    "data_df[['SubscriptionId_split','SubscriptionId']] = data_df.SubscriptionId.str.split(\"_\",expand=True,)\n",
    "data_df[['CustomerId_split','CustomerId']] = data_df.CustomerId.str.split(\"_\",expand=True,)\n",
    "data_df[['ProviderId_split','ProviderId']] = data_df.ProviderId.str.split(\"_\",expand=True,)\n",
    "data_df[['ProductId_split','ProductId']] = data_df.ProductId.str.split(\"_\",expand=True,)\n",
    "data_df[['ChannelId_split','ChannelId']] = data_df.ChannelId.str.split(\"_\",expand=True,)"
   ]
  },
  {
   "cell_type": "code",
   "execution_count": null,
   "metadata": {},
   "outputs": [],
   "source": [
    "data_df.head()"
   ]
  },
  {
   "cell_type": "markdown",
   "metadata": {},
   "source": [
    "### Drop Columns"
   ]
  },
  {
   "cell_type": "code",
   "execution_count": null,
   "metadata": {},
   "outputs": [],
   "source": [
    "data_df = data_df.drop(['TransactionId_split','BatchId_split','AccountId_split','SubscriptionId_split',\\\n",
    "                        'CustomerId_split','ProviderId_split','ProductId_split','ChannelId_split','TransactionStartTime',\\\n",
    "                        'CurrencyCode','CountryCode'], axis=1)"
   ]
  },
  {
   "cell_type": "code",
   "execution_count": null,
   "metadata": {},
   "outputs": [],
   "source": [
    "data_df.head()"
   ]
  },
  {
   "cell_type": "markdown",
   "metadata": {},
   "source": [
    "## To Categorical"
   ]
  },
  {
   "cell_type": "code",
   "execution_count": null,
   "metadata": {},
   "outputs": [],
   "source": [
    "data_df[\"ProductCategory\"] = pd.Categorical(data_df[\"ProductCategory\"])\n",
    "ProductCategory_categories = data_df.ProductCategory.cat.categories\n",
    "data_df[\"ProductCategory\"] = data_df.ProductCategory.cat.codes"
   ]
  },
  {
   "cell_type": "code",
   "execution_count": null,
   "metadata": {
    "scrolled": true
   },
   "outputs": [],
   "source": [
    "data_df.head()"
   ]
  },
  {
   "cell_type": "markdown",
   "metadata": {},
   "source": [
    "# Process Test Data"
   ]
  },
  {
   "cell_type": "code",
   "execution_count": null,
   "metadata": {},
   "outputs": [],
   "source": [
    "test_df[\"TransactionStartTime\"] = pd.to_datetime(test_df[\"TransactionStartTime\"],infer_datetime_format=True)\n",
    "test_df['TransactionStartTime'].iloc[0]\n",
    "test_df_Timedelta = test_df['TransactionStartTime'].iloc[45018] - test_df['TransactionStartTime'].iloc[0]\n",
    "test_df_Timedelta\n",
    "\n",
    "# Preprocess Data\n",
    "\n",
    "### Extracting just Date, Month and Year from TransactionStartTime column\n",
    "\n",
    "test_df.head()\n",
    "\n",
    "test_df['year'] = pd.DatetimeIndex(test_df['TransactionStartTime']).year\n",
    "test_df['month'] = pd.DatetimeIndex(test_df['TransactionStartTime']).month\n",
    "test_df['day'] = pd.DatetimeIndex(test_df['TransactionStartTime']).day\n",
    "test_df['hour'] = pd.DatetimeIndex(test_df['TransactionStartTime']).hour\n",
    "test_df['minute'] = pd.DatetimeIndex(test_df['TransactionStartTime']).minute\n",
    "test_df['second'] = pd.DatetimeIndex(test_df['TransactionStartTime']).second\n",
    "\n",
    "#test_df[\"TransactionStartTime\"] = pd.to_datetime(test_df[\"TransactionStartTime\"],infer_datetime_format=True)\n",
    "\n",
    "#change the full date to day of week\n",
    "test_df[\"day_of_week\"] = test_df[\"TransactionStartTime\"].dt.dayofweek \n",
    "\n",
    "test_df.head()\n",
    "\n",
    "### Split columns using delimiter\n",
    "\n",
    "test_df[['TransactionId_split','TransactionId']] = test_df.TransactionId.str.split(\"_\",expand=True,)\n",
    "test_df[['BatchId_split','BatchId']] = test_df.BatchId.str.split(\"_\",expand=True,)\n",
    "test_df[['AccountId_split','AccountId']] = test_df.AccountId.str.split(\"_\",expand=True,)\n",
    "test_df[['SubscriptionId_split','SubscriptionId']] = test_df.SubscriptionId.str.split(\"_\",expand=True,)\n",
    "test_df[['CustomerId_split','CustomerId']] = test_df.CustomerId.str.split(\"_\",expand=True,)\n",
    "test_df[['ProviderId_split','ProviderId']] = test_df.ProviderId.str.split(\"_\",expand=True,)\n",
    "test_df[['ProductId_split','ProductId']] = test_df.ProductId.str.split(\"_\",expand=True,)\n",
    "test_df[['ChannelId_split','ChannelId']] = test_df.ChannelId.str.split(\"_\",expand=True,)\n",
    "\n",
    "test_df.head()\n",
    "\n",
    "### Drop Columns\n",
    "\n",
    "test_df = test_df.drop(['TransactionId_split','BatchId_split','AccountId_split','SubscriptionId_split',\\\n",
    "                        'CustomerId_split','ProviderId_split','ProductId_split','ChannelId_split','TransactionStartTime',\\\n",
    "                        'CurrencyCode','CountryCode'], axis=1)\n",
    "\n",
    "test_df.head()\n",
    "\n",
    "## To Categorical\n",
    "\n",
    "test_df[\"ProductCategory\"] = pd.Categorical(test_df[\"ProductCategory\"])\n",
    "ProductCategory_categories = test_df.ProductCategory.cat.categories\n",
    "test_df[\"ProductCategory\"] = test_df.ProductCategory.cat.codes"
   ]
  },
  {
   "cell_type": "markdown",
   "metadata": {
    "_uuid": "86636e53408b574ac5f7c84d73a5d8cff5c6e23f"
   },
   "source": [
    "# <a id=\"6\">Predictive models</a>  \n",
    "\n"
   ]
  },
  {
   "cell_type": "code",
   "execution_count": null,
   "metadata": {},
   "outputs": [],
   "source": [
    "data_df.head()"
   ]
  },
  {
   "cell_type": "code",
   "execution_count": null,
   "metadata": {},
   "outputs": [],
   "source": [
    "test_df.head()"
   ]
  },
  {
   "cell_type": "markdown",
   "metadata": {},
   "source": [
    "# Predictive models"
   ]
  },
  {
   "cell_type": "code",
   "execution_count": null,
   "metadata": {},
   "outputs": [],
   "source": [
    "y_train = data_df['FraudResult']\n",
    "x_train = data_df.drop(labels=['FraudResult'], axis=1)\n",
    "\n",
    "y_test = test_df['FraudResult']\n",
    "x_test = test_df.drop(labels=['FraudResult'], axis=1)"
   ]
  },
  {
   "cell_type": "markdown",
   "metadata": {},
   "source": [
    "## Cross Validating"
   ]
  },
  {
   "cell_type": "code",
   "execution_count": null,
   "metadata": {},
   "outputs": [],
   "source": [
    "rs= 2\n",
    "kfold=StratifiedKFold(n_splits=5, random_state=rs, shuffle=True)\n",
    "classifiers = []\n",
    "classifiers.append(SVC(random_state = rs))\n",
    "classifiers.append(RandomForestClassifier(random_state=rs))\n",
    "classifiers.append(ExtraTreesClassifier(random_state=rs))\n",
    "classifiers.append(GradientBoostingClassifier(random_state=rs))\n",
    "classifiers.append(xgb.XGBClassifier(seed=rs))\n",
    "classifiers.append(KNeighborsClassifier())\n",
    "\n",
    "cv_results = []\n",
    "for classifier in classifiers:\n",
    "    cv_results.append(cross_val_score(classifier, X_train, y=y_train, scoring='roc_auc', cv=kfold))\n",
    "\n",
    "cv_means = []\n",
    "cv_std = []\n",
    "\n",
    "for cv_result in cv_results:\n",
    "    cv_means.append(cv_result.mean())\n",
    "    cv_std.append(cv_result.std())\n",
    "    \n",
    "cv_res = pd.DataFrame({\"CrossValsMeans\": cv_means, \"CrossValerrors\": cv_std, \n",
    "            \"Alg\": [\"SVC\", \"RF\", \"ETC\", \"GB\", \"XGB\", \"KNN\"]})\n",
    "cv_res.sort_values(\"CrossValsMeans\", ascending=False)\n"
   ]
  },
  {
   "cell_type": "markdown",
   "metadata": {},
   "source": [
    "## Making Predictions"
   ]
  },
  {
   "cell_type": "code",
   "execution_count": null,
   "metadata": {},
   "outputs": [],
   "source": [
    "model= xgb.XGBClassifier(seed=rs)"
   ]
  },
  {
   "cell_type": "code",
   "execution_count": null,
   "metadata": {},
   "outputs": [],
   "source": [
    "model.fit(x_train, y_train)"
   ]
  },
  {
   "cell_type": "code",
   "execution_count": null,
   "metadata": {},
   "outputs": [],
   "source": [
    "pred = model.predict(x_test)"
   ]
  },
  {
   "cell_type": "code",
   "execution_count": null,
   "metadata": {},
   "outputs": [],
   "source": [
    "subs = pd.DataFrame({\"TransactionId\": test_df['TransactionId'], \"FraudResult\": pred})\n",
    "subs = subs[['TransactionId', 'FraudResult']]\n",
    "subs.to_csv(\"final.csv\")"
   ]
  },
  {
   "cell_type": "code",
   "execution_count": null,
   "metadata": {},
   "outputs": [],
   "source": []
  },
  {
   "cell_type": "code",
   "execution_count": null,
   "metadata": {},
   "outputs": [],
   "source": []
  },
  {
   "cell_type": "code",
   "execution_count": null,
   "metadata": {},
   "outputs": [],
   "source": []
  },
  {
   "cell_type": "code",
   "execution_count": null,
   "metadata": {},
   "outputs": [],
   "source": []
  }
 ],
 "metadata": {
  "kernelspec": {
   "display_name": "Python 3",
   "language": "python",
   "name": "python3"
  },
  "language_info": {
   "codemirror_mode": {
    "name": "ipython",
    "version": 3
   },
   "file_extension": ".py",
   "mimetype": "text/x-python",
   "name": "python",
   "nbconvert_exporter": "python",
   "pygments_lexer": "ipython3",
   "version": "3.6.5"
  }
 },
 "nbformat": 4,
 "nbformat_minor": 1
}
